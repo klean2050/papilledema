{
 "cells": [
  {
   "cell_type": "code",
   "execution_count": 1,
   "metadata": {},
   "outputs": [],
   "source": [
    "import torch, clip\n",
    "from PIL import Image\n",
    "\n",
    "device = \"cuda\" if torch.cuda.is_available() else \"cpu\"\n",
    "model, preprocess = clip.load(\"ViT-B/32\", device=device)"
   ]
  },
  {
   "cell_type": "code",
   "execution_count": 2,
   "metadata": {},
   "outputs": [],
   "source": [
    "image_path = \"data/cropped_clahe/2_visit01_photo01.JPG\"\n",
    "image = preprocess(Image.open(image_path)).unsqueeze(0).to(device)\n",
    "with torch.no_grad():\n",
    "    image_features = model.encode_image(image)"
   ]
  },
  {
   "cell_type": "code",
   "execution_count": 3,
   "metadata": {},
   "outputs": [],
   "source": [
    "import pandas as pd\n",
    "severity = pd.read_csv(\"/data/avramidi/chla_fundus/consensus_grades_severity.csv\")"
   ]
  },
  {
   "cell_type": "code",
   "execution_count": 1,
   "metadata": {},
   "outputs": [
    {
     "name": "stdout",
     "output_type": "stream",
     "text": [
      "0.85\n"
     ]
    }
   ],
   "source": [
    "import evaluate\n",
    "roc_auc_score = evaluate.load(\"roc_auc\", \"multiclass\")\n",
    "refs = [1, 0, 1, 2, 2, 0]\n",
    "pred_scores = [[0.3, 0.5, 0.2],\n",
    "                 [0.7, 0.2, 0.1],\n",
    "                 [0.005, 0.99, 0.005],\n",
    "                 [0.2, 0.3, 0.5],\n",
    "                 [0.1, 0.1, 0.8],\n",
    "                 [0.1, 0.7, 0.2]]\n",
    "results = roc_auc_score.compute(references=refs,\n",
    "                                prediction_scores=pred_scores,\n",
    "                                multi_class='ovr')\n",
    "print(round(results['roc_auc'], 2))"
   ]
  },
  {
   "cell_type": "code",
   "execution_count": 2,
   "metadata": {},
   "outputs": [],
   "source": [
    "import numpy as np\n",
    "\n",
    "def get_results(logger):\n",
    "    auc, sns, acc, spc = [], [], [], []\n",
    "    with open(logger, \"r\") as f:\n",
    "        for line in f.readlines():\n",
    "            if line.startswith(\"AUC\"):\n",
    "                n = line.split(\":\")[1][1:5]\n",
    "                auc.append(float(n))\n",
    "            if line.startswith(\"Acc\"):\n",
    "                n = line.split(\":\")[1][1:5]\n",
    "                acc.append(float(n))\n",
    "            if line.startswith(\"Sen\"):\n",
    "                n = line.split(\":\")[1][1:5]\n",
    "                sns.append(float(n))\n",
    "            if line.startswith(\"Spe\"):\n",
    "                n = line.split(\":\")[1][1:5]\n",
    "                spc.append(float(n))\n",
    "    return auc, acc, sns, spc\n",
    "\n",
    "def calc_ci(distr, p):\n",
    "    dmean = np.mean(distr)\n",
    "    ci_do = np.percentile(distr, p/2)\n",
    "    ci_up = np.percentile(distr, 100-p/2)\n",
    "    return \"{:.1f}% ({}% CI, {:.1f} to {:.1f})\".format(dmean, 100-p, ci_do, ci_up)"
   ]
  },
  {
   "cell_type": "code",
   "execution_count": 4,
   "metadata": {},
   "outputs": [
    {
     "name": "stdout",
     "output_type": "stream",
     "text": [
      "AUC = 70.8% (95% CI, 66.0 to 78.4)\n",
      "Acc = 71.0% (95% CI, 65.2 to 78.4)\n",
      "Sns = 67.8% (95% CI, 60.5 to 72.6)\n",
      "Spc = 73.9% (95% CI, 66.6 to 85.7)\n"
     ]
    }
   ],
   "source": [
    "auc, acc, sns, spc = get_results(\"results/logger_23.txt\")\n",
    "print(\"AUC =\", calc_ci(auc, p=5))\n",
    "print(\"Acc =\", calc_ci(acc, p=5))\n",
    "print(\"Sns =\", calc_ci(sns, p=5))\n",
    "print(\"Spc =\", calc_ci(spc, p=5))"
   ]
  },
  {
   "cell_type": "code",
   "execution_count": 5,
   "metadata": {},
   "outputs": [
    {
     "name": "stdout",
     "output_type": "stream",
     "text": [
      "AUC = 70.2% (95% CI, 64.9 to 78.3)\n",
      "Acc = 71.3% (95% CI, 66.5 to 78.4)\n",
      "Sns = 65.7% (95% CI, 47.0 to 73.2)\n",
      "Spc = 74.6% (95% CI, 66.3 to 85.6)\n"
     ]
    }
   ],
   "source": [
    "auc, acc, sns, spc = get_results(\"results/logger_24.txt\")\n",
    "print(\"AUC =\", calc_ci(auc, p=5))\n",
    "print(\"Acc =\", calc_ci(acc, p=5))\n",
    "print(\"Sns =\", calc_ci(sns, p=5))\n",
    "print(\"Spc =\", calc_ci(spc, p=5))"
   ]
  },
  {
   "cell_type": "code",
   "execution_count": null,
   "metadata": {},
   "outputs": [],
   "source": []
  }
 ],
 "metadata": {
  "kernelspec": {
   "display_name": "Python 3.9.5 ('base')",
   "language": "python",
   "name": "python3"
  },
  "language_info": {
   "codemirror_mode": {
    "name": "ipython",
    "version": 3
   },
   "file_extension": ".py",
   "mimetype": "text/x-python",
   "name": "python",
   "nbconvert_exporter": "python",
   "pygments_lexer": "ipython3",
   "version": "3.9.5"
  },
  "orig_nbformat": 4,
  "vscode": {
   "interpreter": {
    "hash": "3ab323e660f3a9bb361148c6889bf4609343562ee4930adaf3e4d1e531ca133b"
   }
  }
 },
 "nbformat": 4,
 "nbformat_minor": 2
}
