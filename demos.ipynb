{
 "cells": [
  {
   "cell_type": "code",
   "execution_count": null,
   "metadata": {},
   "outputs": [],
   "source": [
    "import matplotlib.pyplot as plt\n",
    "import numpy as np, pandas as pd\n",
    "from sklearn.metrics import roc_curve, roc_auc_score\n",
    "\n",
    "def plot_roc_curve(csv_path):\n",
    "    data = pd.read_csv(csv_path)\n",
    "    fpr, tpr, t = roc_curve(data[\"PA_label\"], data[\"PA_proba\"])\n",
    "    label = roc_auc_score(data[\"PA_label\"], data[\"PA_proba\"])\n",
    "\n",
    "    plt.figure(figsize=(4.5, 4.5), dpi=100)\n",
    "    plt.plot(fpr, tpr, label=\"Ours: AUC = {:.2}\".format(label), color=\"blue\")\n",
    "    plt.plot([0, 1], [0, 1], \"r\", label=\"Random Classifier\")\n",
    "    plt.ylim(0, 1)\n",
    "    plt.yticks(np.arange(0, 1.01, 0.1))\n",
    "    plt.xlim(0, 1)\n",
    "    plt.xticks(np.arange(0, 1.01, 0.1))\n",
    "    plt.grid(linestyle=\"--\")\n",
    "    plt.legend(loc=\"lower right\")\n",
    "    plt.title(\"Optimal Threshold: {:.2}\".format(t[np.argmax(tpr - fpr)]))\n",
    "    plt.show()"
   ]
  },
  {
   "cell_type": "code",
   "execution_count": null,
   "metadata": {},
   "outputs": [],
   "source": [
    "plot_roc_curve(\"saved_dict_1.0.csv\")"
   ]
  }
 ],
 "metadata": {
  "kernelspec": {
   "display_name": "Python 3.9.5 ('base')",
   "language": "python",
   "name": "python3"
  },
  "language_info": {
   "codemirror_mode": {
    "name": "ipython",
    "version": 3
   },
   "file_extension": ".py",
   "mimetype": "text/x-python",
   "name": "python",
   "nbconvert_exporter": "python",
   "pygments_lexer": "ipython3",
   "version": "3.9.5"
  },
  "orig_nbformat": 4,
  "vscode": {
   "interpreter": {
    "hash": "3ab323e660f3a9bb361148c6889bf4609343562ee4930adaf3e4d1e531ca133b"
   }
  }
 },
 "nbformat": 4,
 "nbformat_minor": 2
}
