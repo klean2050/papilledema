{
 "cells": [
  {
   "cell_type": "code",
   "execution_count": 17,
   "metadata": {},
   "outputs": [
    {
     "name": "stderr",
     "output_type": "stream",
     "text": [
      "100%|██████████| 862/862 [00:25<00:00, 34.27it/s]\n"
     ]
    }
   ],
   "source": [
    "import torch, clip, os\n",
    "from PIL import Image\n",
    "from tqdm import tqdm\n",
    "\n",
    "device = \"cuda\" if torch.cuda.is_available() else \"cpu\"\n",
    "model, preprocess = clip.load(\"ViT-B/32\", device=device)\n",
    "images_path, feats = \"data/cropped/\", []\n",
    "\n",
    "for i in tqdm(os.listdir(images_path)):\n",
    "    img_path = os.path.join(images_path, i)\n",
    "    image = preprocess(Image.open(img_path)).unsqueeze(0).to(device)\n",
    "    with torch.no_grad():\n",
    "        feats.append(model.encode_image(image))\n",
    "\n",
    "feats = torch.vstack(feats)\n",
    "# feats.shape = (862, 512)"
   ]
  },
  {
   "cell_type": "code",
   "execution_count": 1,
   "metadata": {},
   "outputs": [],
   "source": [
    "import numpy as np\n",
    "\n",
    "def get_results(logger):\n",
    "    auc, sns, acc, spc = [], [], [], []\n",
    "    with open(logger, \"r\") as f:\n",
    "        for line in f.readlines():\n",
    "            if line.startswith(\"AUC\"):\n",
    "                n = line.split(\":\")[1][1:5]\n",
    "                auc.append(float(n))\n",
    "            if line.startswith(\"Acc\"):\n",
    "                n = line.split(\":\")[1][1:5]\n",
    "                acc.append(float(n))\n",
    "            if line.startswith(\"Sen\"):\n",
    "                n = line.split(\":\")[1][1:5]\n",
    "                sns.append(float(n))\n",
    "            if line.startswith(\"Spe\"):\n",
    "                n = line.split(\":\")[1][1:5]\n",
    "                spc.append(float(n))\n",
    "    return auc, acc, sns, spc\n",
    "\n",
    "def calc_ci(distr, p):\n",
    "    dmean = np.mean(distr)\n",
    "    ci_do = np.percentile(distr, p/2)\n",
    "    ci_up = np.percentile(distr, 100-p/2)\n",
    "    return \"{:.1f}% ({}% CI, {:.1f} to {:.1f})\".format(dmean, 100-p, ci_do, ci_up)"
   ]
  },
  {
   "cell_type": "code",
   "execution_count": 5,
   "metadata": {},
   "outputs": [
    {
     "name": "stdout",
     "output_type": "stream",
     "text": [
      "AUC = 67.3% (95% CI, 58.2 to 75.8)\n",
      "Acc = 67.6% (95% CI, 61.4 to 78.3)\n",
      "Sns = 68.6% (95% CI, 45.4 to 79.5)\n",
      "Spc = 66.1% (95% CI, 52.2 to 83.4)\n"
     ]
    }
   ],
   "source": [
    "auc, acc, sns, spc = get_results(\"results/logger_41.txt\")\n",
    "print(\"AUC =\", calc_ci(auc, p=5))\n",
    "print(\"Acc =\", calc_ci(acc, p=5))\n",
    "print(\"Sns =\", calc_ci(sns, p=5))\n",
    "print(\"Spc =\", calc_ci(spc, p=5))"
   ]
  },
  {
   "cell_type": "code",
   "execution_count": 3,
   "metadata": {},
   "outputs": [
    {
     "name": "stdout",
     "output_type": "stream",
     "text": [
      "AUC = 81.1% (95% CI, 74.9 to 88.3)\n",
      "Acc = 84.3% (95% CI, 75.4 to 89.4)\n",
      "Sns = 74.9% (95% CI, 66.5 to 86.3)\n",
      "Spc = 87.3% (95% CI, 77.4 to 92.2)\n"
     ]
    }
   ],
   "source": [
    "auc, acc, sns, spc = get_results(\"results/logger_40.txt\")\n",
    "print(\"AUC =\", calc_ci(auc, p=5))\n",
    "print(\"Acc =\", calc_ci(acc, p=5))\n",
    "print(\"Sns =\", calc_ci(sns, p=5))\n",
    "print(\"Spc =\", calc_ci(spc, p=5))"
   ]
  }
 ],
 "metadata": {
  "kernelspec": {
   "display_name": "Python 3.9.5 ('base')",
   "language": "python",
   "name": "python3"
  },
  "language_info": {
   "codemirror_mode": {
    "name": "ipython",
    "version": 3
   },
   "file_extension": ".py",
   "mimetype": "text/x-python",
   "name": "python",
   "nbconvert_exporter": "python",
   "pygments_lexer": "ipython3",
   "version": "3.9.5"
  },
  "orig_nbformat": 4,
  "vscode": {
   "interpreter": {
    "hash": "3ab323e660f3a9bb361148c6889bf4609343562ee4930adaf3e4d1e531ca133b"
   }
  }
 },
 "nbformat": 4,
 "nbformat_minor": 2
}
