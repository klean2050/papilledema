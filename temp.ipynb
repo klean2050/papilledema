{
 "cells": [
  {
   "cell_type": "code",
   "execution_count": 1,
   "metadata": {},
   "outputs": [],
   "source": [
    "import torch, clip\n",
    "from PIL import Image\n",
    "\n",
    "device = \"cuda\" if torch.cuda.is_available() else \"cpu\"\n",
    "model, preprocess = clip.load(\"ViT-B/32\", device=device)"
   ]
  },
  {
   "cell_type": "code",
   "execution_count": 2,
   "metadata": {},
   "outputs": [],
   "source": [
    "image_path = \"data/cropped_clahe/2_visit01_photo01.JPG\"\n",
    "image = preprocess(Image.open(image_path)).unsqueeze(0).to(device)\n",
    "with torch.no_grad():\n",
    "    image_features = model.encode_image(image)"
   ]
  },
  {
   "cell_type": "code",
   "execution_count": 3,
   "metadata": {},
   "outputs": [],
   "source": [
    "import pandas as pd\n",
    "severity = pd.read_csv(\"/data/avramidi/chla_fundus/consensus_grades_severity.csv\")"
   ]
  },
  {
   "cell_type": "code",
   "execution_count": 1,
   "metadata": {},
   "outputs": [
    {
     "name": "stdout",
     "output_type": "stream",
     "text": [
      "0.85\n"
     ]
    }
   ],
   "source": [
    "import evaluate\n",
    "roc_auc_score = evaluate.load(\"roc_auc\", \"multiclass\")\n",
    "refs = [1, 0, 1, 2, 2, 0]\n",
    "pred_scores = [[0.3, 0.5, 0.2],\n",
    "                 [0.7, 0.2, 0.1],\n",
    "                 [0.005, 0.99, 0.005],\n",
    "                 [0.2, 0.3, 0.5],\n",
    "                 [0.1, 0.1, 0.8],\n",
    "                 [0.1, 0.7, 0.2]]\n",
    "results = roc_auc_score.compute(references=refs,\n",
    "                                prediction_scores=pred_scores,\n",
    "                                multi_class='ovr')\n",
    "print(round(results['roc_auc'], 2))"
   ]
  },
  {
   "cell_type": "code",
   "execution_count": 19,
   "metadata": {},
   "outputs": [
    {
     "name": "stdout",
     "output_type": "stream",
     "text": [
      "72.26857142857143 5.7028199254439755\n",
      "75.48857142857142 8.477222302097763\n",
      "69.05142857142856 8.69470681107835\n"
     ]
    }
   ],
   "source": [
    "import numpy as np\n",
    "aucs, sns, spc = [], [], []\n",
    "with open(\"logger_1loss_avgpool.txt\", \"r\") as f:\n",
    "    for line in f.readlines():\n",
    "        if line.startswith(\"AUC\"):\n",
    "            n = line.split(\":\")[1][1:5]\n",
    "            aucs.append(float(n))\n",
    "        if line.startswith(\"Sen\"):\n",
    "            n = line.split(\":\")[1][1:5]\n",
    "            sns.append(float(n))\n",
    "        if line.startswith(\"Spe\"):\n",
    "            n = line.split(\":\")[1][1:5]\n",
    "            spc.append(float(n))\n",
    "            \n",
    "print(np.mean(aucs), np.std(aucs))\n",
    "print(np.mean(sns), np.std(sns))\n",
    "print(np.mean(spc), np.std(spc))"
   ]
  },
  {
   "cell_type": "code",
   "execution_count": 25,
   "metadata": {},
   "outputs": [
    {
     "name": "stdout",
     "output_type": "stream",
     "text": [
      "71.71081081081081 6.953621797260949\n",
      "74.64864864864866 9.43846705434795\n",
      "68.7891891891892 11.360238477316607\n"
     ]
    }
   ],
   "source": [
    "aucs, sns, spc = [], [], []\n",
    "with open(\"logger_avgpool_discard.txt\", \"r\") as f:\n",
    "    for line in f.readlines():\n",
    "        if line.startswith(\"AUC\"):\n",
    "            n = line.split(\":\")[1][1:5]\n",
    "            aucs.append(float(n))\n",
    "        if line.startswith(\"Sen\"):\n",
    "            n = line.split(\":\")[1][1:5]\n",
    "            sns.append(float(n))\n",
    "        if line.startswith(\"Spe\"):\n",
    "            n = line.split(\":\")[1][1:5]\n",
    "            spc.append(float(n))\n",
    "            \n",
    "print(np.mean(aucs), np.std(aucs))\n",
    "print(np.mean(sns), np.std(sns))\n",
    "print(np.mean(spc), np.std(spc))"
   ]
  },
  {
   "cell_type": "code",
   "execution_count": null,
   "metadata": {},
   "outputs": [],
   "source": []
  }
 ],
 "metadata": {
  "kernelspec": {
   "display_name": "Python 3.9.5 ('base')",
   "language": "python",
   "name": "python3"
  },
  "language_info": {
   "codemirror_mode": {
    "name": "ipython",
    "version": 3
   },
   "file_extension": ".py",
   "mimetype": "text/x-python",
   "name": "python",
   "nbconvert_exporter": "python",
   "pygments_lexer": "ipython3",
   "version": "3.9.5"
  },
  "orig_nbformat": 4,
  "vscode": {
   "interpreter": {
    "hash": "3ab323e660f3a9bb361148c6889bf4609343562ee4930adaf3e4d1e531ca133b"
   }
  }
 },
 "nbformat": 4,
 "nbformat_minor": 2
}
