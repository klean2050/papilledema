{
 "cells": [
  {
   "cell_type": "code",
   "execution_count": 1,
   "metadata": {},
   "outputs": [],
   "source": [
    "import torch, clip\n",
    "from PIL import Image\n",
    "\n",
    "device = \"cuda\" if torch.cuda.is_available() else \"cpu\"\n",
    "model, preprocess = clip.load(\"ViT-B/32\", device=device)"
   ]
  },
  {
   "cell_type": "code",
   "execution_count": 2,
   "metadata": {},
   "outputs": [],
   "source": [
    "image_path = \"data/cropped_clahe/2_visit01_photo01.JPG\"\n",
    "image = preprocess(Image.open(image_path)).unsqueeze(0).to(device)\n",
    "with torch.no_grad():\n",
    "    image_features = model.encode_image(image)"
   ]
  },
  {
   "cell_type": "code",
   "execution_count": 3,
   "metadata": {},
   "outputs": [],
   "source": [
    "import pandas as pd\n",
    "severity = pd.read_csv(\"/data/avramidi/chla_fundus/consensus_grades_severity.csv\")"
   ]
  },
  {
   "cell_type": "code",
   "execution_count": 15,
   "metadata": {},
   "outputs": [
    {
     "name": "stdout",
     "output_type": "stream",
     "text": [
      "862\n"
     ]
    }
   ],
   "source": [
    "path1 = \"cropped/\"\n",
    "path2 = \"data/cropped/\"\n",
    "import os\n",
    "print(len(os.listdir(path2)))"
   ]
  },
  {
   "cell_type": "code",
   "execution_count": 11,
   "metadata": {},
   "outputs": [],
   "source": [
    "excluded = [\n",
    "    # show atrophy, have resolved PA\n",
    "    \"198_visit01_photo01.JPG\",\n",
    "    \"211_visit01_photo01.JPG\",\n",
    "    \"224_visit01_photo01.jpg\",\n",
    "    \"224_visit01_photo02.jpg\",\n",
    "    \"224_visit02_photo01.jpg\",\n",
    "    \"224_visit03_photo01.jpg\",\n",
    "    \"224_visit04_photo01.jpg\",\n",
    "    \"224_visit05_photo01.jpg\",\n",
    "    \"224_visit07_photo01.jpg\",\n",
    "    \"224_visit10_photo01.jpg\",\n",
    "    \"235_visit01_photo01.jpg\",\n",
    "    \"235_visit01_photo02.jpg\",\n",
    "    \"235_visit02_photo01.jpg\",\n",
    "    \"235_visit02_photo02.jpg\",\n",
    "    \"235_visit03_photo01.jpg\",\n",
    "    \"235_visit03_photo02.jpg\",\n",
    "    \"307_visit01_photo02.JPG\",\n",
    "]"
   ]
  },
  {
   "cell_type": "code",
   "execution_count": 12,
   "metadata": {},
   "outputs": [],
   "source": [
    "import shutil, os\n",
    "\n",
    "path1 = \"cropped/\"\n",
    "path2 = \"data/cropped/\"\n",
    "\n",
    "for file in os.listdir(path1):\n",
    "    if file not in excluded and file not in os.listdir(path2):\n",
    "        src = os.path.join(path1, file)\n",
    "        dst = os.path.join(path2, file)\n",
    "        shutil.copy(src, dst) "
   ]
  },
  {
   "cell_type": "code",
   "execution_count": 1,
   "metadata": {},
   "outputs": [
    {
     "name": "stdout",
     "output_type": "stream",
     "text": [
      "0.85\n"
     ]
    }
   ],
   "source": [
    "import evaluate\n",
    "roc_auc_score = evaluate.load(\"roc_auc\", \"multiclass\")\n",
    "refs = [1, 0, 1, 2, 2, 0]\n",
    "pred_scores = [[0.3, 0.5, 0.2],\n",
    "                 [0.7, 0.2, 0.1],\n",
    "                 [0.005, 0.99, 0.005],\n",
    "                 [0.2, 0.3, 0.5],\n",
    "                 [0.1, 0.1, 0.8],\n",
    "                 [0.1, 0.7, 0.2]]\n",
    "results = roc_auc_score.compute(references=refs,\n",
    "                                prediction_scores=pred_scores,\n",
    "                                multi_class='ovr')\n",
    "print(round(results['roc_auc'], 2))"
   ]
  },
  {
   "cell_type": "code",
   "execution_count": 21,
   "metadata": {},
   "outputs": [
    {
     "name": "stdout",
     "output_type": "stream",
     "text": [
      "69.03333333333335 5.923587501581189\n",
      "61.03333333333333 13.690954028928088\n",
      "77.04444444444442 10.58280692770759\n"
     ]
    }
   ],
   "source": [
    "import numpy as np\n",
    "aucs, sns, spc = [], [], []\n",
    "with open(\"results/logger_16.txt\", \"r\") as f:\n",
    "    for line in f.readlines():\n",
    "        if line.startswith(\"AUC\"):\n",
    "            n = line.split(\":\")[1][1:5]\n",
    "            aucs.append(float(n))\n",
    "        if line.startswith(\"Sen\"):\n",
    "            n = line.split(\":\")[1][1:5]\n",
    "            sns.append(float(n))\n",
    "        if line.startswith(\"Spe\"):\n",
    "            n = line.split(\":\")[1][1:5]\n",
    "            spc.append(float(n))\n",
    "            \n",
    "print(np.mean(aucs), np.std(aucs))\n",
    "print(np.mean(sns), np.std(sns))\n",
    "print(np.mean(spc), np.std(spc))"
   ]
  },
  {
   "cell_type": "code",
   "execution_count": 18,
   "metadata": {},
   "outputs": [
    {
     "data": {
      "text/plain": [
       "[75.5, 72.6, 60.7, 52.8, 74.5, 62.1, 77.1, 68.6]"
      ]
     },
     "execution_count": 18,
     "metadata": {},
     "output_type": "execute_result"
    }
   ],
   "source": [
    "aucs"
   ]
  },
  {
   "cell_type": "code",
   "execution_count": 47,
   "metadata": {},
   "outputs": [
    {
     "name": "stdout",
     "output_type": "stream",
     "text": [
      "70.43333333333334 6.578922573052691\n",
      "66.87777777777778 13.278619220199879\n",
      "74.01111111111112 10.808992598186677\n"
     ]
    }
   ],
   "source": [
    "aucs, sns, spc = [], [], []\n",
    "with open(\"results/logger_7.txt\", \"r\") as f:\n",
    "    for line in f.readlines():\n",
    "        if line.startswith(\"AUC\"):\n",
    "            n = line.split(\":\")[1][1:5]\n",
    "            aucs.append(float(n))\n",
    "        if line.startswith(\"Sen\"):\n",
    "            n = line.split(\":\")[1][1:5]\n",
    "            sns.append(float(n))\n",
    "        if line.startswith(\"Spe\"):\n",
    "            n = line.split(\":\")[1][1:5]\n",
    "            spc.append(float(n))\n",
    "            \n",
    "print(np.mean(aucs), np.std(aucs))\n",
    "print(np.mean(sns), np.std(sns))\n",
    "print(np.mean(spc), np.std(spc))"
   ]
  },
  {
   "cell_type": "code",
   "execution_count": null,
   "metadata": {},
   "outputs": [],
   "source": []
  }
 ],
 "metadata": {
  "kernelspec": {
   "display_name": "Python 3.9.5 ('base')",
   "language": "python",
   "name": "python3"
  },
  "language_info": {
   "codemirror_mode": {
    "name": "ipython",
    "version": 3
   },
   "file_extension": ".py",
   "mimetype": "text/x-python",
   "name": "python",
   "nbconvert_exporter": "python",
   "pygments_lexer": "ipython3",
   "version": "3.9.5"
  },
  "orig_nbformat": 4,
  "vscode": {
   "interpreter": {
    "hash": "3ab323e660f3a9bb361148c6889bf4609343562ee4930adaf3e4d1e531ca133b"
   }
  }
 },
 "nbformat": 4,
 "nbformat_minor": 2
}
